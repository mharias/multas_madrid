{
 "cells": [
  {
   "cell_type": "markdown",
   "metadata": {},
   "source": [
    "## Download y grabado en csv de los datos de multas del Ayutamiento Madrid"
   ]
  },
  {
   "cell_type": "markdown",
   "metadata": {},
   "source": [
    "Vamos a analizar el fichero de multas del **Ayuntamiento de Madrid**, con información sacada del portal de OPenData : http://datos.madrid.es"
   ]
  },
  {
   "cell_type": "markdown",
   "metadata": {},
   "source": [
    "Como siempre importamos las librerias necesarias : pandas, numpy y matplotlib"
   ]
  },
  {
   "cell_type": "code",
   "execution_count": 1,
   "metadata": {},
   "outputs": [],
   "source": [
    "import pandas as pd"
   ]
  },
  {
   "cell_type": "code",
   "execution_count": 2,
   "metadata": {},
   "outputs": [],
   "source": [
    "import numpy as np"
   ]
  },
  {
   "cell_type": "code",
   "execution_count": 3,
   "metadata": {},
   "outputs": [],
   "source": [
    "import datetime"
   ]
  },
  {
   "cell_type": "code",
   "execution_count": 4,
   "metadata": {},
   "outputs": [],
   "source": [
    "pd.options.display.float_format = '{:,.1f}'.format"
   ]
  },
  {
   "cell_type": "markdown",
   "metadata": {},
   "source": [
    "Preparamos una texto para incluirlo en cada gráfico como fuente..."
   ]
  },
  {
   "cell_type": "code",
   "execution_count": 5,
   "metadata": {},
   "outputs": [],
   "source": [
    "fuente='Fuente : Ayuntamiento de Madrid, http://datos.madrid.es'"
   ]
  },
  {
   "cell_type": "markdown",
   "metadata": {},
   "source": [
    "Preparando la URL de la fuente de datos"
   ]
  },
  {
   "cell_type": "code",
   "execution_count": 6,
   "metadata": {},
   "outputs": [],
   "source": [
    "url_fichero = 'https://datos.madrid.es/egob/catalogo/210104-{}-multas-circulacion-detalle.csv'"
   ]
  },
  {
   "cell_type": "code",
   "execution_count": null,
   "metadata": {},
   "outputs": [],
   "source": []
  },
  {
   "cell_type": "markdown",
   "metadata": {},
   "source": [
    "cabecera de las columnas"
   ]
  },
  {
   "cell_type": "code",
   "execution_count": 7,
   "metadata": {},
   "outputs": [],
   "source": [
    "nombre_columnas=['CALIFICACION','LUGAR','MES','ANIO','HORA','IMP_BOL','DESCUENTO','PUNTOS','DENUNCIANTE','HECHO_BOL','VEL_LIMITE','VEL_CIRCULA','COORDENADA_X','COORDENADA_Y']"
   ]
  },
  {
   "cell_type": "code",
   "execution_count": null,
   "metadata": {},
   "outputs": [],
   "source": []
  },
  {
   "cell_type": "markdown",
   "metadata": {},
   "source": [
    "Leemos los datos desde su localizacion en 'path_web', en este fichero tenemos los datos de Junio de 2017. Al respecto de la la identificacion de la multa en el tiempo tendremos la hora pero no el día del mes, es decir : tendremos las multas puestas a las 13:10 a lo largo de todo el mes, pero no podremos partirlas por día. No encuentro otra razón que no sea evitar cualquier vía de identificación del conductor."
   ]
  },
  {
   "cell_type": "markdown",
   "metadata": {},
   "source": [
    "El código 226 corresponde a Enero19, bajamos hasta hoy.."
   ]
  },
  {
   "cell_type": "code",
   "execution_count": 62,
   "metadata": {},
   "outputs": [],
   "source": [
    "codigos_ficheros = list(range(226,247,4)) + list(range(252,265,4)) + list(range(266,297,2))"
   ]
  },
  {
   "cell_type": "code",
   "execution_count": null,
   "metadata": {},
   "outputs": [],
   "source": []
  },
  {
   "cell_type": "code",
   "execution_count": 63,
   "metadata": {},
   "outputs": [
    {
     "name": "stdout",
     "output_type": "stream",
     "text": [
      "https://datos.madrid.es/egob/catalogo/210104-226-multas-circulacion-detalle.csv\n",
      "https://datos.madrid.es/egob/catalogo/210104-230-multas-circulacion-detalle.csv\n",
      "https://datos.madrid.es/egob/catalogo/210104-234-multas-circulacion-detalle.csv\n",
      "https://datos.madrid.es/egob/catalogo/210104-238-multas-circulacion-detalle.csv\n",
      "https://datos.madrid.es/egob/catalogo/210104-242-multas-circulacion-detalle.csv\n",
      "https://datos.madrid.es/egob/catalogo/210104-246-multas-circulacion-detalle.csv\n",
      "https://datos.madrid.es/egob/catalogo/210104-252-multas-circulacion-detalle.csv\n",
      "https://datos.madrid.es/egob/catalogo/210104-256-multas-circulacion-detalle.csv\n",
      "https://datos.madrid.es/egob/catalogo/210104-260-multas-circulacion-detalle.csv\n",
      "https://datos.madrid.es/egob/catalogo/210104-264-multas-circulacion-detalle.csv\n",
      "https://datos.madrid.es/egob/catalogo/210104-266-multas-circulacion-detalle.csv\n",
      "https://datos.madrid.es/egob/catalogo/210104-268-multas-circulacion-detalle.csv\n",
      "https://datos.madrid.es/egob/catalogo/210104-270-multas-circulacion-detalle.csv\n",
      "https://datos.madrid.es/egob/catalogo/210104-272-multas-circulacion-detalle.csv\n",
      "https://datos.madrid.es/egob/catalogo/210104-274-multas-circulacion-detalle.csv\n",
      "https://datos.madrid.es/egob/catalogo/210104-276-multas-circulacion-detalle.csv\n",
      "https://datos.madrid.es/egob/catalogo/210104-278-multas-circulacion-detalle.csv\n",
      "https://datos.madrid.es/egob/catalogo/210104-280-multas-circulacion-detalle.csv\n",
      "https://datos.madrid.es/egob/catalogo/210104-282-multas-circulacion-detalle.csv\n",
      "https://datos.madrid.es/egob/catalogo/210104-284-multas-circulacion-detalle.csv\n",
      "https://datos.madrid.es/egob/catalogo/210104-286-multas-circulacion-detalle.csv\n",
      "https://datos.madrid.es/egob/catalogo/210104-288-multas-circulacion-detalle.csv\n",
      "https://datos.madrid.es/egob/catalogo/210104-290-multas-circulacion-detalle.csv\n",
      "https://datos.madrid.es/egob/catalogo/210104-292-multas-circulacion-detalle.csv\n",
      "https://datos.madrid.es/egob/catalogo/210104-294-multas-circulacion-detalle.csv\n",
      "https://datos.madrid.es/egob/catalogo/210104-296-multas-circulacion-detalle.csv\n"
     ]
    }
   ],
   "source": [
    "multas=pd.DataFrame()\n",
    "for codigo in codigos_ficheros:\n",
    "    path = url_fichero.format(str(codigo))\n",
    "    print (path)\n",
    "    req = Request(path)\n",
    "    req.add_header('User-Agent', 'Mozilla/5.0 (X11; Ubuntu; Linux x86_64; rv:77.0) Gecko/20100101 Firefox/77.0')\n",
    "    content = urlopen(req)\n",
    "    multas_mes=pd.read_csv(content,sep=\";\",encoding='windows-1250',index_col=False,header=None,skiprows=1,low_memory=False)\n",
    "    multas = pd.concat([multas, multas_mes], ignore_index=True, sort=False)"
   ]
  },
  {
   "cell_type": "code",
   "execution_count": 64,
   "metadata": {},
   "outputs": [],
   "source": [
    "multas.columns = nombre_columnas"
   ]
  },
  {
   "cell_type": "code",
   "execution_count": 65,
   "metadata": {},
   "outputs": [
    {
     "data": {
      "text/plain": [
       "(4951098, 14)"
      ]
     },
     "execution_count": 65,
     "metadata": {},
     "output_type": "execute_result"
    }
   ],
   "source": [
    "multas.shape"
   ]
  },
  {
   "cell_type": "code",
   "execution_count": 66,
   "metadata": {},
   "outputs": [],
   "source": [
    "multas.to_csv('historico_multas.csv')"
   ]
  },
  {
   "cell_type": "markdown",
   "metadata": {
    "collapsed": true
   },
   "source": [
    "confirmamos que ha bajado correctamente"
   ]
  },
  {
   "cell_type": "code",
   "execution_count": 35,
   "metadata": {},
   "outputs": [],
   "source": [
    "multas = pd.read_csv('historico_multas.csv')"
   ]
  },
  {
   "cell_type": "code",
   "execution_count": 36,
   "metadata": {},
   "outputs": [],
   "source": [
    "multas['FECHA']=multas[['ANIO','MES']].astype(str).apply('-'.join,1)"
   ]
  },
  {
   "cell_type": "code",
   "execution_count": 38,
   "metadata": {},
   "outputs": [],
   "source": [
    "multas['FECHA']=pd.to_datetime(multas['FECHA'],format= '%Y-%m')"
   ]
  },
  {
   "cell_type": "code",
   "execution_count": 39,
   "metadata": {},
   "outputs": [],
   "source": [
    "multas = multas.drop(columns = ['MES','ANIO'])"
   ]
  },
  {
   "cell_type": "code",
   "execution_count": 40,
   "metadata": {},
   "outputs": [],
   "source": [
    "multas['HORA'] = pd.to_datetime(multas['HORA'].astype(str),format='%H.%M').dt.time"
   ]
  },
  {
   "cell_type": "code",
   "execution_count": 41,
   "metadata": {},
   "outputs": [],
   "source": [
    "multas[['VEL_CIRCULA','VEL_LIMITE']] = multas[['VEL_CIRCULA','VEL_LIMITE']].astype(float,errors='ignore')\n"
   ]
  },
  {
   "cell_type": "code",
   "execution_count": 42,
   "metadata": {},
   "outputs": [
    {
     "data": {
      "text/plain": [
       "Index(['CALIFICACION', 'LUGAR', 'HORA', 'IMP_BOL', 'DESCUENTO', 'PUNTOS',\n",
       "       'DENUNCIANTE', 'HECHO_BOL', 'VEL_LIMITE', 'VEL_CIRCULA', 'COORDENADA_X',\n",
       "       'COORDENADA_Y', 'FECHA'],\n",
       "      dtype='object')"
      ]
     },
     "execution_count": 42,
     "metadata": {},
     "output_type": "execute_result"
    }
   ],
   "source": [
    "multas.columns"
   ]
  },
  {
   "cell_type": "code",
   "execution_count": 43,
   "metadata": {},
   "outputs": [],
   "source": [
    "multas = multas[['CALIFICACION', 'LUGAR', 'FECHA','HORA', 'IMP_BOL', 'DESCUENTO', 'PUNTOS',\n",
    "       'DENUNCIANTE', 'HECHO_BOL', 'VEL_LIMITE', 'VEL_CIRCULA', 'COORDENADA_X',\n",
    "       'COORDENADA_Y']]"
   ]
  },
  {
   "cell_type": "code",
   "execution_count": 45,
   "metadata": {},
   "outputs": [
    {
     "data": {
      "text/html": [
       "<div>\n",
       "<style scoped>\n",
       "    .dataframe tbody tr th:only-of-type {\n",
       "        vertical-align: middle;\n",
       "    }\n",
       "\n",
       "    .dataframe tbody tr th {\n",
       "        vertical-align: top;\n",
       "    }\n",
       "\n",
       "    .dataframe thead th {\n",
       "        text-align: right;\n",
       "    }\n",
       "</style>\n",
       "<table border=\"1\" class=\"dataframe\">\n",
       "  <thead>\n",
       "    <tr style=\"text-align: right;\">\n",
       "      <th></th>\n",
       "      <th>CALIFICACION</th>\n",
       "      <th>LUGAR</th>\n",
       "      <th>FECHA</th>\n",
       "      <th>HORA</th>\n",
       "      <th>IMP_BOL</th>\n",
       "      <th>DESCUENTO</th>\n",
       "      <th>PUNTOS</th>\n",
       "      <th>DENUNCIANTE</th>\n",
       "      <th>HECHO_BOL</th>\n",
       "      <th>VEL_LIMITE</th>\n",
       "      <th>VEL_CIRCULA</th>\n",
       "      <th>COORDENADA_X</th>\n",
       "      <th>COORDENADA_Y</th>\n",
       "    </tr>\n",
       "  </thead>\n",
       "  <tbody>\n",
       "    <tr>\n",
       "      <th>0</th>\n",
       "      <td>LEVE</td>\n",
       "      <td>SAN RESTITUTO 24</td>\n",
       "      <td>2019-01-01</td>\n",
       "      <td>16:12:00</td>\n",
       "      <td>90.0</td>\n",
       "      <td>SI</td>\n",
       "      <td>0</td>\n",
       "      <td>POLICIA MUNICIPAL</td>\n",
       "      <td>ESTACIONAR EN LUGAR PROHIBIDO.                ...</td>\n",
       "      <td></td>\n",
       "      <td></td>\n",
       "      <td></td>\n",
       "      <td></td>\n",
       "    </tr>\n",
       "    <tr>\n",
       "      <th>1</th>\n",
       "      <td>LEVE</td>\n",
       "      <td>LOMBIA-JORGE JUAN</td>\n",
       "      <td>2019-01-01</td>\n",
       "      <td>17:35:00</td>\n",
       "      <td>60.0</td>\n",
       "      <td>SI</td>\n",
       "      <td>0</td>\n",
       "      <td>POLICIA MUNICIPAL</td>\n",
       "      <td>ESTACIONAR MOTOCICLETA O CICLOMOTOR SOBRE LA A...</td>\n",
       "      <td></td>\n",
       "      <td></td>\n",
       "      <td></td>\n",
       "      <td></td>\n",
       "    </tr>\n",
       "    <tr>\n",
       "      <th>2</th>\n",
       "      <td>LEVE</td>\n",
       "      <td>CL MULLER 36</td>\n",
       "      <td>2019-01-01</td>\n",
       "      <td>10:47:00</td>\n",
       "      <td>90.0</td>\n",
       "      <td>SI</td>\n",
       "      <td>0</td>\n",
       "      <td>SER</td>\n",
       "      <td>ESTACIONAR SOBRE LA ACERA.                    ...</td>\n",
       "      <td></td>\n",
       "      <td></td>\n",
       "      <td></td>\n",
       "      <td></td>\n",
       "    </tr>\n",
       "    <tr>\n",
       "      <th>3</th>\n",
       "      <td>LEVE</td>\n",
       "      <td>SANTA ISABEL 31</td>\n",
       "      <td>2019-01-01</td>\n",
       "      <td>01:15:00</td>\n",
       "      <td>90.0</td>\n",
       "      <td>SI</td>\n",
       "      <td>0</td>\n",
       "      <td>POLICIA MUNICIPAL</td>\n",
       "      <td>ESTACIONAR EN LUGAR RESERVADO TEMPORALMENTE PA...</td>\n",
       "      <td></td>\n",
       "      <td></td>\n",
       "      <td></td>\n",
       "      <td></td>\n",
       "    </tr>\n",
       "    <tr>\n",
       "      <th>4</th>\n",
       "      <td>GRAVE</td>\n",
       "      <td>CAUNEDO 27</td>\n",
       "      <td>2019-01-01</td>\n",
       "      <td>09:04:00</td>\n",
       "      <td>200.0</td>\n",
       "      <td>SI</td>\n",
       "      <td>0</td>\n",
       "      <td>POLICIA MUNICIPAL</td>\n",
       "      <td>ESTACIONAR EN ZONA SEŃALIZADA PARA USO EXCLUSI...</td>\n",
       "      <td></td>\n",
       "      <td></td>\n",
       "      <td></td>\n",
       "      <td></td>\n",
       "    </tr>\n",
       "    <tr>\n",
       "      <th>...</th>\n",
       "      <td>...</td>\n",
       "      <td>...</td>\n",
       "      <td>...</td>\n",
       "      <td>...</td>\n",
       "      <td>...</td>\n",
       "      <td>...</td>\n",
       "      <td>...</td>\n",
       "      <td>...</td>\n",
       "      <td>...</td>\n",
       "      <td>...</td>\n",
       "      <td>...</td>\n",
       "      <td>...</td>\n",
       "      <td>...</td>\n",
       "    </tr>\n",
       "    <tr>\n",
       "      <th>4951093</th>\n",
       "      <td>LEVE</td>\n",
       "      <td>MANZANARES 2 E</td>\n",
       "      <td>2021-02-01</td>\n",
       "      <td>12:44:00</td>\n",
       "      <td>60.0</td>\n",
       "      <td>SI</td>\n",
       "      <td>0</td>\n",
       "      <td>AGENTES DE MOVILIDAD</td>\n",
       "      <td>ESTACIONAR MOTOCICLETA O CICLOMOTOR SOBRE LA A...</td>\n",
       "      <td></td>\n",
       "      <td></td>\n",
       "      <td></td>\n",
       "      <td></td>\n",
       "    </tr>\n",
       "    <tr>\n",
       "      <th>4951094</th>\n",
       "      <td>GRAVE</td>\n",
       "      <td>PO RECOLETOS 1</td>\n",
       "      <td>2021-02-01</td>\n",
       "      <td>01:35:00</td>\n",
       "      <td>200.0</td>\n",
       "      <td>SI</td>\n",
       "      <td>0</td>\n",
       "      <td>POLICIA MUNICIPAL</td>\n",
       "      <td>ESTACIONAR EN ESPACIOS EXPRESAMENTE RESERVADOS...</td>\n",
       "      <td></td>\n",
       "      <td></td>\n",
       "      <td></td>\n",
       "      <td></td>\n",
       "    </tr>\n",
       "    <tr>\n",
       "      <th>4951095</th>\n",
       "      <td>LEVE</td>\n",
       "      <td>CL DIVINO VALLES 1</td>\n",
       "      <td>2021-02-01</td>\n",
       "      <td>10:08:00</td>\n",
       "      <td>60.0</td>\n",
       "      <td>SI</td>\n",
       "      <td>0</td>\n",
       "      <td>SER</td>\n",
       "      <td>ESTACIONAR CON AUTORIZACIÓN NO VÁLIDA.        ...</td>\n",
       "      <td></td>\n",
       "      <td></td>\n",
       "      <td></td>\n",
       "      <td></td>\n",
       "    </tr>\n",
       "    <tr>\n",
       "      <th>4951096</th>\n",
       "      <td>LEVE</td>\n",
       "      <td>GENERAL DIAZ PORLIER 78</td>\n",
       "      <td>2021-02-01</td>\n",
       "      <td>03:03:00</td>\n",
       "      <td>90.0</td>\n",
       "      <td>SI</td>\n",
       "      <td>0</td>\n",
       "      <td>POLICIA MUNICIPAL</td>\n",
       "      <td>ESTACIONAR EN LUGAR PROHIBIDO.                ...</td>\n",
       "      <td></td>\n",
       "      <td></td>\n",
       "      <td></td>\n",
       "      <td></td>\n",
       "    </tr>\n",
       "    <tr>\n",
       "      <th>4951097</th>\n",
       "      <td>MUY GRAVE</td>\n",
       "      <td>CARTAGENA 79</td>\n",
       "      <td>2021-02-01</td>\n",
       "      <td>18:45:00</td>\n",
       "      <td>500.0</td>\n",
       "      <td>SI</td>\n",
       "      <td>6</td>\n",
       "      <td>POLICIA MUNICIPAL</td>\n",
       "      <td>CIRCULAR EN SENTIDO CONTRARIO AL ESTABLECIDO. ...</td>\n",
       "      <td></td>\n",
       "      <td></td>\n",
       "      <td></td>\n",
       "      <td></td>\n",
       "    </tr>\n",
       "  </tbody>\n",
       "</table>\n",
       "<p>4951098 rows × 13 columns</p>\n",
       "</div>"
      ],
      "text/plain": [
       "        CALIFICACION                                     LUGAR      FECHA  \\\n",
       "0         LEVE        SAN RESTITUTO 24                         2019-01-01   \n",
       "1         LEVE        LOMBIA-JORGE JUAN                        2019-01-01   \n",
       "2         LEVE        CL MULLER 36                             2019-01-01   \n",
       "3         LEVE        SANTA ISABEL 31                          2019-01-01   \n",
       "4         GRAVE       CAUNEDO 27                               2019-01-01   \n",
       "...              ...                                       ...        ...   \n",
       "4951093   LEVE        MANZANARES 2 E                           2021-02-01   \n",
       "4951094   GRAVE       PO RECOLETOS 1                           2021-02-01   \n",
       "4951095   LEVE        CL DIVINO VALLES 1                       2021-02-01   \n",
       "4951096   LEVE        GENERAL DIAZ PORLIER 78                  2021-02-01   \n",
       "4951097   MUY GRAVE   CARTAGENA 79                             2021-02-01   \n",
       "\n",
       "             HORA  IMP_BOL DESCUENTO  PUNTOS           DENUNCIANTE  \\\n",
       "0        16:12:00     90.0        SI       0  POLICIA MUNICIPAL      \n",
       "1        17:35:00     60.0        SI       0  POLICIA MUNICIPAL      \n",
       "2        10:47:00     90.0        SI       0  SER                    \n",
       "3        01:15:00     90.0        SI       0  POLICIA MUNICIPAL      \n",
       "4        09:04:00    200.0        SI       0  POLICIA MUNICIPAL      \n",
       "...           ...      ...       ...     ...                   ...   \n",
       "4951093  12:44:00     60.0        SI       0  AGENTES DE MOVILIDAD   \n",
       "4951094  01:35:00    200.0        SI       0  POLICIA MUNICIPAL      \n",
       "4951095  10:08:00     60.0        SI       0  SER                    \n",
       "4951096  03:03:00     90.0        SI       0  POLICIA MUNICIPAL      \n",
       "4951097  18:45:00    500.0        SI       6  POLICIA MUNICIPAL      \n",
       "\n",
       "                                                 HECHO_BOL VEL_LIMITE  \\\n",
       "0        ESTACIONAR EN LUGAR PROHIBIDO.                ...              \n",
       "1        ESTACIONAR MOTOCICLETA O CICLOMOTOR SOBRE LA A...              \n",
       "2        ESTACIONAR SOBRE LA ACERA.                    ...              \n",
       "3        ESTACIONAR EN LUGAR RESERVADO TEMPORALMENTE PA...              \n",
       "4        ESTACIONAR EN ZONA SEŃALIZADA PARA USO EXCLUSI...              \n",
       "...                                                    ...        ...   \n",
       "4951093  ESTACIONAR MOTOCICLETA O CICLOMOTOR SOBRE LA A...              \n",
       "4951094  ESTACIONAR EN ESPACIOS EXPRESAMENTE RESERVADOS...              \n",
       "4951095  ESTACIONAR CON AUTORIZACIÓN NO VÁLIDA.        ...              \n",
       "4951096  ESTACIONAR EN LUGAR PROHIBIDO.                ...              \n",
       "4951097  CIRCULAR EN SENTIDO CONTRARIO AL ESTABLECIDO. ...              \n",
       "\n",
       "        VEL_CIRCULA COORDENADA_X COORDENADA_Y  \n",
       "0                                              \n",
       "1                                              \n",
       "2                                              \n",
       "3                                              \n",
       "4                                              \n",
       "...             ...          ...          ...  \n",
       "4951093                                        \n",
       "4951094                                        \n",
       "4951095                                        \n",
       "4951096                                        \n",
       "4951097                                        \n",
       "\n",
       "[4951098 rows x 13 columns]"
      ]
     },
     "execution_count": 45,
     "metadata": {},
     "output_type": "execute_result"
    }
   ],
   "source": [
    "multas"
   ]
  },
  {
   "cell_type": "code",
   "execution_count": 46,
   "metadata": {},
   "outputs": [],
   "source": [
    "multas.to_csv('historico_multas.csv',index_label=False)"
   ]
  },
  {
   "cell_type": "code",
   "execution_count": 246,
   "metadata": {},
   "outputs": [
    {
     "data": {
      "text/plain": [
       "(4545057, 18)"
      ]
     },
     "execution_count": 246,
     "metadata": {},
     "output_type": "execute_result"
    }
   ],
   "source": [
    "multas.shape"
   ]
  },
  {
   "cell_type": "code",
   "execution_count": null,
   "metadata": {},
   "outputs": [],
   "source": []
  }
 ],
 "metadata": {
  "kernelspec": {
   "display_name": "Python 3",
   "language": "python",
   "name": "python3"
  },
  "language_info": {
   "codemirror_mode": {
    "name": "ipython",
    "version": 3
   },
   "file_extension": ".py",
   "mimetype": "text/x-python",
   "name": "python",
   "nbconvert_exporter": "python",
   "pygments_lexer": "ipython3",
   "version": "3.8.5"
  }
 },
 "nbformat": 4,
 "nbformat_minor": 2
}
