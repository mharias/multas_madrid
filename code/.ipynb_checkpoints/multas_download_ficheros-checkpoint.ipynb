{
 "cells": [
  {
   "cell_type": "markdown",
   "metadata": {},
   "source": [
    "## Download y grabado en csv de los datos de multas del Ayutamiento Madrid"
   ]
  },
  {
   "cell_type": "markdown",
   "metadata": {},
   "source": [
    "Vamos a analizar el fichero de multas del **Ayuntamiento de Madrid**, con información sacada del portal de OPenData : http://datos.madrid.es"
   ]
  },
  {
   "cell_type": "markdown",
   "metadata": {},
   "source": [
    "Como siempre importamos las librerias necesarias : pandas, numpy y matplotlib"
   ]
  },
  {
   "cell_type": "code",
   "execution_count": 1,
   "metadata": {},
   "outputs": [],
   "source": [
    "import numpy as np\n",
    "import json\n",
    "import pandas as pd\n",
    "from datetime import datetime,timedelta\n",
    "import requests\n",
    "import urllib.request\n",
    "from urllib.request import urlopen, Request\n",
    "import itertools"
   ]
  },
  {
   "cell_type": "code",
   "execution_count": null,
   "metadata": {},
   "outputs": [],
   "source": []
  },
  {
   "cell_type": "code",
   "execution_count": 2,
   "metadata": {},
   "outputs": [],
   "source": [
    "pd.options.display.float_format = '{:,.1f}'.format"
   ]
  },
  {
   "cell_type": "markdown",
   "metadata": {},
   "source": [
    "Preparamos una texto para incluirlo en cada gráfico como fuente..."
   ]
  },
  {
   "cell_type": "code",
   "execution_count": null,
   "metadata": {},
   "outputs": [],
   "source": [
    "fuente='Fuente : Ayuntamiento de Madrid, http://datos.madrid.es'"
   ]
  },
  {
   "cell_type": "markdown",
   "metadata": {},
   "source": [
    "Preparando la URL de la fuente de datos"
   ]
  },
  {
   "cell_type": "code",
   "execution_count": null,
   "metadata": {},
   "outputs": [],
   "source": [
    "url_fichero = 'https://datos.madrid.es/egob/catalogo/210104-{}-multas-circulacion-detalle.csv'"
   ]
  },
  {
   "cell_type": "code",
   "execution_count": null,
   "metadata": {},
   "outputs": [],
   "source": [
    "path_proyecto = '/Users/mharias/documents/proyectos/multas_madrid'\n",
    "path_img = '/img'\n",
    "path_code = '/code'\n",
    "path_data ='/data'"
   ]
  },
  {
   "cell_type": "code",
   "execution_count": null,
   "metadata": {},
   "outputs": [],
   "source": [
    "path_proyecto = "
   ]
  },
  {
   "cell_type": "markdown",
   "metadata": {},
   "source": [
    "cabecera de las columnas"
   ]
  },
  {
   "cell_type": "code",
   "execution_count": 3,
   "metadata": {},
   "outputs": [],
   "source": [
    "nombre_columnas=['CALIFICACION','LUGAR','MES','ANIO','HORA','IMP_BOL','DESCUENTO','PUNTOS','DENUNCIANTE','HECHO_BOL','VEL_LIMITE','VEL_CIRCULA','COORDENADA_X','COORDENADA_Y']"
   ]
  },
  {
   "cell_type": "code",
   "execution_count": null,
   "metadata": {},
   "outputs": [],
   "source": []
  },
  {
   "cell_type": "markdown",
   "metadata": {},
   "source": [
    "Leemos los datos desde su localizacion en 'path_web', en este fichero tenemos los datos de Junio de 2017. Al respecto de la la identificacion de la multa en el tiempo tendremos la hora pero no el día del mes, es decir : tendremos las multas puestas a las 13:10 a lo largo de todo el mes, pero no podremos partirlas por día. No encuentro otra razón que no sea evitar cualquier vía de identificación del conductor."
   ]
  },
  {
   "cell_type": "markdown",
   "metadata": {},
   "source": [
    "El código 226 corresponde a Enero19, bajamos hasta hoy.."
   ]
  },
  {
   "cell_type": "code",
   "execution_count": null,
   "metadata": {},
   "outputs": [],
   "source": [
    "codigos_ficheros = ['323']"
   ]
  },
  {
   "cell_type": "code",
   "execution_count": null,
   "metadata": {},
   "outputs": [],
   "source": [
    "codigos_ficheros = list(range(226,247,4)) + list(range(252,265,4)) + list(range(266,297,2))+['302']+list(range(307,325,2))"
   ]
  },
  {
   "cell_type": "code",
   "execution_count": null,
   "metadata": {},
   "outputs": [],
   "source": [
    "multas=pd.DataFrame()\n",
    "for codigo in codigos_ficheros:\n",
    "    path = url_fichero.format(str(codigo))\n",
    "    print (path)\n",
    "    #response = urllib.request.urlopen(path)\n",
    "    req = Request(path)\n",
    "    req.add_header('User-Agent', 'Mozilla/5.0 (X11; Ubuntu; Linux x86_64; rv:77.0) Gecko/20100101 Firefox/77.0')\n",
    "    content = urlopen(req)\n",
    "    multas_mes=pd.read_csv(content,sep=\";\",index_col=False,encoding_errors='ignore',header=None,encoding='windows-1250',skiprows=1,low_memory=False)\n",
    "    multas = pd.concat([multas, multas_mes], ignore_index=True, sort=False)"
   ]
  },
  {
   "cell_type": "code",
   "execution_count": null,
   "metadata": {},
   "outputs": [],
   "source": [
    "multas.columns = nombre_columnas"
   ]
  },
  {
   "cell_type": "code",
   "execution_count": null,
   "metadata": {},
   "outputs": [],
   "source": [
    "multas.shape"
   ]
  },
  {
   "cell_type": "code",
   "execution_count": null,
   "metadata": {},
   "outputs": [],
   "source": [
    "multas.to_csv(f'{path_proyecto}{path_data}/historico_multas.csv')"
   ]
  },
  {
   "cell_type": "markdown",
   "metadata": {
    "collapsed": true
   },
   "source": [
    "confirmamos que ha bajado correctamente"
   ]
  },
  {
   "cell_type": "code",
   "execution_count": null,
   "metadata": {},
   "outputs": [],
   "source": [
    "multas = pd.read_csv(f'{path_proyecto}{path_data}/historico_multas.csv')"
   ]
  },
  {
   "cell_type": "code",
   "execution_count": null,
   "metadata": {},
   "outputs": [],
   "source": [
    "multas['FECHA']=multas[['ANIO','MES']].astype(str).apply('-'.join,1)"
   ]
  },
  {
   "cell_type": "code",
   "execution_count": null,
   "metadata": {},
   "outputs": [],
   "source": [
    "multas['FECHA']=pd.to_datetime(multas['FECHA'],format= '%Y-%m')"
   ]
  },
  {
   "cell_type": "code",
   "execution_count": null,
   "metadata": {},
   "outputs": [],
   "source": [
    "multas = multas.drop(columns = ['MES','ANIO'])"
   ]
  },
  {
   "cell_type": "code",
   "execution_count": null,
   "metadata": {},
   "outputs": [],
   "source": [
    "multas['HORA'] = pd.to_datetime(multas['HORA'].astype(str),format='%H.%M').dt.time"
   ]
  },
  {
   "cell_type": "code",
   "execution_count": null,
   "metadata": {},
   "outputs": [],
   "source": [
    "multas[['VEL_CIRCULA','VEL_LIMITE']] = multas[['VEL_CIRCULA','VEL_LIMITE']].astype(float,errors='ignore')\n"
   ]
  },
  {
   "cell_type": "code",
   "execution_count": null,
   "metadata": {},
   "outputs": [],
   "source": [
    "multas.columns"
   ]
  },
  {
   "cell_type": "code",
   "execution_count": null,
   "metadata": {},
   "outputs": [],
   "source": [
    "multas = multas[['CALIFICACION', 'LUGAR', 'FECHA','HORA', 'IMP_BOL', 'DESCUENTO', 'PUNTOS',\n",
    "       'DENUNCIANTE', 'HECHO_BOL', 'VEL_LIMITE', 'VEL_CIRCULA', 'COORDENADA_X',\n",
    "       'COORDENADA_Y']]"
   ]
  },
  {
   "cell_type": "code",
   "execution_count": null,
   "metadata": {},
   "outputs": [],
   "source": [
    "multas"
   ]
  },
  {
   "cell_type": "code",
   "execution_count": null,
   "metadata": {},
   "outputs": [],
   "source": [
    "multas.to_csv(f'{path_proyecto}{path_data}/historico_multas.csv',index_label=False)"
   ]
  },
  {
   "cell_type": "code",
   "execution_count": null,
   "metadata": {},
   "outputs": [],
   "source": [
    "multas.shape"
   ]
  },
  {
   "cell_type": "code",
   "execution_count": 5,
   "metadata": {},
   "outputs": [],
   "source": [
    "response = requests.get(\"https://datos.madrid.es/egob/catalogo/keyword/multas.json\")"
   ]
  },
  {
   "cell_type": "code",
   "execution_count": 11,
   "metadata": {},
   "outputs": [],
   "source": [
    "assert response.status_code==200"
   ]
  },
  {
   "cell_type": "code",
   "execution_count": 49,
   "metadata": {},
   "outputs": [
    {
     "data": {
      "text/plain": [
       "dict_keys(['_about', 'description', 'identifier', 'issued', 'modified', 'publisher', 'theme', 'title', 'keyword', 'distribution', 'type'])"
      ]
     },
     "execution_count": 49,
     "metadata": {},
     "output_type": "execute_result"
    }
   ],
   "source": [
    "response.json()['result']['items'][0].keys()"
   ]
  },
  {
   "cell_type": "code",
   "execution_count": 7,
   "metadata": {},
   "outputs": [
    {
     "data": {
      "text/plain": [
       "{'X-Frame-Options': 'SAMEORIGIN', 'X-XSS-Protection': '1; mode=block', 'X-Content-Type-Options': 'nosniff', 'Cache-Control': 'no-cache', 'OT-force-Account-Verify': 'true', 'Content-disposition': 'inline;filename=Descarga.json', 'Content-Type': 'application/json;charset=UTF-8', 'Content-Encoding': 'gzip', 'X-UA-Compatible': 'IE=8', 'Date': 'Sun, 24 Apr 2022 10:20:35 GMT', 'Content-Length': '5699', 'Connection': 'keep-alive', 'Vary': 'Accept-Encoding', 'Set-Cookie': 'JSESSIONID=D97011EFC94586D06DA8B4B551240FD8.app04; Path=/; Secure; HttpOnly, ROUTEID=.app04; path=/', 'Strict-Transport-Security': 'max-age=15768000'}"
      ]
     },
     "execution_count": 7,
     "metadata": {},
     "output_type": "execute_result"
    }
   ],
   "source": [
    "response.headers"
   ]
  },
  {
   "cell_type": "code",
   "execution_count": 35,
   "metadata": {},
   "outputs": [],
   "source": [
    "def valida(entrada,fechas):\n",
    "    if (entrada['title'].split('.')[0] in fechas) & (entrada['title'].split('.')[1]==' Detalle') & (entrada['format']['value']=='text/csv'):\n",
    "        return True\n",
    "    else:\n",
    "        return False"
   ]
  },
  {
   "cell_type": "code",
   "execution_count": 22,
   "metadata": {},
   "outputs": [],
   "source": [
    "annos = ['2019','2020','2021']\n",
    "meses = ['Enero','Febrero','Marzo','Abril','Mayo','Junio','Julio','Agosto','Septiembre','Octubre','Noviembre','Diciembre']\n",
    "lista_fechas = [annos,meses]"
   ]
  },
  {
   "cell_type": "code",
   "execution_count": 37,
   "metadata": {},
   "outputs": [],
   "source": [
    "fechas=[]\n",
    "for element in itertools.product(*lista_fechas):\n",
    "    #print(f'{element[0]} {element[1]}')\n",
    "    fechas.append(f'{element[0]} {element[1]}')"
   ]
  },
  {
   "cell_type": "code",
   "execution_count": 38,
   "metadata": {},
   "outputs": [],
   "source": [
    "multas=pd.DataFrame()"
   ]
  },
  {
   "cell_type": "code",
   "execution_count": null,
   "metadata": {},
   "outputs": [],
   "source": []
  },
  {
   "cell_type": "code",
   "execution_count": 40,
   "metadata": {
    "scrolled": true
   },
   "outputs": [
    {
     "name": "stdout",
     "output_type": "stream",
     "text": [
      "2021 Diciembre. Detalle text/csv https://datos.madrid.es/egob/catalogo/210104-323-multas-circulacion-detalle.csv\n",
      "2021 Noviembre. Detalle text/csv https://datos.madrid.es/egob/catalogo/210104-321-multas-circulacion-detalle.csv\n",
      "2021 Octubre. Detalle text/csv https://datos.madrid.es/egob/catalogo/210104-319-multas-circulacion-detalle.csv\n",
      "2021 Septiembre. Detalle text/csv https://datos.madrid.es/egob/catalogo/210104-317-multas-circulacion-detalle.csv\n",
      "2021 Agosto. Detalle text/csv https://datos.madrid.es/egob/catalogo/210104-315-multas-circulacion-detalle.csv\n",
      "2021 Julio. Detalle text/csv https://datos.madrid.es/egob/catalogo/210104-313-multas-circulacion-detalle.csv\n",
      "2021 Junio. Detalle text/csv https://datos.madrid.es/egob/catalogo/210104-311-multas-circulacion-detalle.csv\n",
      "2021 Mayo. Detalle text/csv https://datos.madrid.es/egob/catalogo/210104-309-multas-circulacion-detalle.csv\n",
      "2021 Abril. Detalle text/csv https://datos.madrid.es/egob/catalogo/210104-307-multas-circulacion-detalle.csv\n",
      "2021 Marzo. Detalle text/csv https://datos.madrid.es/egob/catalogo/210104-302-multas-circulacion-detalle.csv\n",
      "2021 Febrero. Detalle text/csv https://datos.madrid.es/egob/catalogo/210104-296-multas-circulacion-detalle.csv\n",
      "2021 Enero. Detalle text/csv https://datos.madrid.es/egob/catalogo/210104-294-multas-circulacion-detalle.csv\n",
      "2020 Diciembre. Detalle text/csv https://datos.madrid.es/egob/catalogo/210104-292-multas-circulacion-detalle.csv\n",
      "2020 Noviembre. Detalle text/csv https://datos.madrid.es/egob/catalogo/210104-290-multas-circulacion-detalle.csv\n",
      "2020 Octubre. Detalle text/csv https://datos.madrid.es/egob/catalogo/210104-288-multas-circulacion-detalle.csv\n",
      "2020 Septiembre. Detalle text/csv https://datos.madrid.es/egob/catalogo/210104-286-multas-circulacion-detalle.csv\n",
      "2020 Agosto. Detalle text/csv https://datos.madrid.es/egob/catalogo/210104-284-multas-circulacion-detalle.csv\n",
      "2020 Julio. Detalle text/csv https://datos.madrid.es/egob/catalogo/210104-282-multas-circulacion-detalle.csv\n",
      "2020 Junio. Detalle text/csv https://datos.madrid.es/egob/catalogo/210104-280-multas-circulacion-detalle.csv\n",
      "2020 Mayo. Detalle text/csv https://datos.madrid.es/egob/catalogo/210104-278-multas-circulacion-detalle.csv\n",
      "2020 Abril. Detalle text/csv https://datos.madrid.es/egob/catalogo/210104-276-multas-circulacion-detalle.csv\n",
      "2020 Marzo. Detalle text/csv https://datos.madrid.es/egob/catalogo/210104-274-multas-circulacion-detalle.csv\n",
      "2020 Febrero. Detalle text/csv https://datos.madrid.es/egob/catalogo/210104-272-multas-circulacion-detalle.csv\n",
      "2020 Enero. Detalle text/csv https://datos.madrid.es/egob/catalogo/210104-270-multas-circulacion-detalle.csv\n",
      "2019 Diciembre. Detalle text/csv https://datos.madrid.es/egob/catalogo/210104-268-multas-circulacion-detalle.csv\n",
      "2019 Noviembre. Detalle text/csv https://datos.madrid.es/egob/catalogo/210104-266-multas-circulacion-detalle.csv\n",
      "2019 Octubre. Detalle text/csv https://datos.madrid.es/egob/catalogo/210104-264-multas-circulacion-detalle.csv\n",
      "2019 Septiembre. Detalle text/csv https://datos.madrid.es/egob/catalogo/210104-260-multas-circulacion-detalle.csv\n",
      "2019 Agosto. Detalle text/csv https://datos.madrid.es/egob/catalogo/210104-256-multas-circulacion-detalle.csv\n",
      "2019 Julio. Detalle text/csv https://datos.madrid.es/egob/catalogo/210104-252-multas-circulacion-detalle.csv\n",
      "2019 Junio. Detalle text/csv https://datos.madrid.es/egob/catalogo/210104-246-multas-circulacion-detalle.csv\n",
      "2019 Mayo. Detalle text/csv https://datos.madrid.es/egob/catalogo/210104-242-multas-circulacion-detalle.csv\n",
      "2019 Abril. Detalle text/csv https://datos.madrid.es/egob/catalogo/210104-238-multas-circulacion-detalle.csv\n",
      "2019 Marzo. Detalle text/csv https://datos.madrid.es/egob/catalogo/210104-234-multas-circulacion-detalle.csv\n",
      "2019 Febrero. Detalle text/csv https://datos.madrid.es/egob/catalogo/210104-230-multas-circulacion-detalle.csv\n",
      "2019 Enero. Detalle text/csv https://datos.madrid.es/egob/catalogo/210104-226-multas-circulacion-detalle.csv\n"
     ]
    }
   ],
   "source": [
    "for i in response.json()['result']['items'][1]['distribution']:\n",
    "    if valida(i,fechas):\n",
    "        print (i['title'],i['format']['value'],i['accessURL'])\n",
    "        req = Request(i['accessURL'])\n",
    "        req.add_header('User-Agent', 'Mozilla/5.0 (X11; Ubuntu; Linux x86_64; rv:77.0) Gecko/20100101 Firefox/77.0')\n",
    "        content = urlopen(req)\n",
    "        multas_mes=pd.read_csv(content,sep=\";\",index_col=False,encoding_errors='ignore',header=None,encoding='windows-1250',skiprows=1,low_memory=False)\n",
    "        multas = pd.concat([multas, multas_mes], ignore_index=True, sort=False)"
   ]
  },
  {
   "cell_type": "code",
   "execution_count": 41,
   "metadata": {},
   "outputs": [],
   "source": [
    "multas.columns = nombre_columnas\n",
    "multas['FECHA']=multas[['ANIO','MES']].astype(str).apply('-'.join,1)\n",
    "multas['FECHA']=pd.to_datetime(multas['FECHA'],format= '%Y-%m')\n",
    "multas = multas.drop(columns = ['MES','ANIO'])\n",
    "multas['HORA'] = pd.to_datetime(multas['HORA'].astype(str),format='%H.%M').dt.time\n",
    "multas[['VEL_CIRCULA','VEL_LIMITE']] = multas[['VEL_CIRCULA','VEL_LIMITE']].astype(float,errors='ignore')"
   ]
  },
  {
   "cell_type": "code",
   "execution_count": 42,
   "metadata": {},
   "outputs": [
    {
     "data": {
      "text/html": [
       "<div>\n",
       "<style scoped>\n",
       "    .dataframe tbody tr th:only-of-type {\n",
       "        vertical-align: middle;\n",
       "    }\n",
       "\n",
       "    .dataframe tbody tr th {\n",
       "        vertical-align: top;\n",
       "    }\n",
       "\n",
       "    .dataframe thead th {\n",
       "        text-align: right;\n",
       "    }\n",
       "</style>\n",
       "<table border=\"1\" class=\"dataframe\">\n",
       "  <thead>\n",
       "    <tr style=\"text-align: right;\">\n",
       "      <th></th>\n",
       "      <th>CALIFICACION</th>\n",
       "      <th>LUGAR</th>\n",
       "      <th>HORA</th>\n",
       "      <th>IMP_BOL</th>\n",
       "      <th>DESCUENTO</th>\n",
       "      <th>PUNTOS</th>\n",
       "      <th>DENUNCIANTE</th>\n",
       "      <th>HECHO_BOL</th>\n",
       "      <th>VEL_LIMITE</th>\n",
       "      <th>VEL_CIRCULA</th>\n",
       "      <th>COORDENADA_X</th>\n",
       "      <th>COORDENADA_Y</th>\n",
       "      <th>FECHA</th>\n",
       "    </tr>\n",
       "  </thead>\n",
       "  <tbody>\n",
       "    <tr>\n",
       "      <th>0</th>\n",
       "      <td>LEVE</td>\n",
       "      <td>CL SORIA 3</td>\n",
       "      <td>13:57:00</td>\n",
       "      <td>30.0</td>\n",
       "      <td>SI</td>\n",
       "      <td>0</td>\n",
       "      <td>SER</td>\n",
       "      <td>ESTACIONAR CON AUTORIZACIÓN EN LUGAR HABILITAD...</td>\n",
       "      <td></td>\n",
       "      <td></td>\n",
       "      <td></td>\n",
       "      <td></td>\n",
       "      <td>2021-12-01</td>\n",
       "    </tr>\n",
       "    <tr>\n",
       "      <th>1</th>\n",
       "      <td>LEVE</td>\n",
       "      <td>CL PEŃUELAS 16</td>\n",
       "      <td>09:32:00</td>\n",
       "      <td>90.0</td>\n",
       "      <td>SI</td>\n",
       "      <td>0</td>\n",
       "      <td>SER</td>\n",
       "      <td>ESTACIONAR EN LUGAR PROHIBIDO. VEHÍCULO DE CAT...</td>\n",
       "      <td></td>\n",
       "      <td></td>\n",
       "      <td></td>\n",
       "      <td></td>\n",
       "      <td>2021-12-01</td>\n",
       "    </tr>\n",
       "    <tr>\n",
       "      <th>2</th>\n",
       "      <td>LEVE</td>\n",
       "      <td>CL PEŃUELAS 5</td>\n",
       "      <td>09:36:00</td>\n",
       "      <td>90.0</td>\n",
       "      <td>SI</td>\n",
       "      <td>0</td>\n",
       "      <td>SER</td>\n",
       "      <td>ESTACIONAR, SIN LA CORRESPONDIENTE AUTORIZACIÓ...</td>\n",
       "      <td></td>\n",
       "      <td></td>\n",
       "      <td></td>\n",
       "      <td></td>\n",
       "      <td>2021-12-01</td>\n",
       "    </tr>\n",
       "    <tr>\n",
       "      <th>3</th>\n",
       "      <td>LEVE</td>\n",
       "      <td>CL LAUREL 4</td>\n",
       "      <td>10:03:00</td>\n",
       "      <td>90.0</td>\n",
       "      <td>SI</td>\n",
       "      <td>0</td>\n",
       "      <td>SER</td>\n",
       "      <td>ESTACIONAR, SIN LA CORRESPONDIENTE AUTORIZACIÓ...</td>\n",
       "      <td></td>\n",
       "      <td></td>\n",
       "      <td></td>\n",
       "      <td></td>\n",
       "      <td>2021-12-01</td>\n",
       "    </tr>\n",
       "    <tr>\n",
       "      <th>4</th>\n",
       "      <td>LEVE</td>\n",
       "      <td>CL MORATINES 11</td>\n",
       "      <td>11:22:00</td>\n",
       "      <td>90.0</td>\n",
       "      <td>SI</td>\n",
       "      <td>0</td>\n",
       "      <td>SER</td>\n",
       "      <td>ESTACIONAR EN ZONA Y HORARIO DE CARGA Y DESCAR...</td>\n",
       "      <td></td>\n",
       "      <td></td>\n",
       "      <td></td>\n",
       "      <td></td>\n",
       "      <td>2021-12-01</td>\n",
       "    </tr>\n",
       "    <tr>\n",
       "      <th>...</th>\n",
       "      <td>...</td>\n",
       "      <td>...</td>\n",
       "      <td>...</td>\n",
       "      <td>...</td>\n",
       "      <td>...</td>\n",
       "      <td>...</td>\n",
       "      <td>...</td>\n",
       "      <td>...</td>\n",
       "      <td>...</td>\n",
       "      <td>...</td>\n",
       "      <td>...</td>\n",
       "      <td>...</td>\n",
       "      <td>...</td>\n",
       "    </tr>\n",
       "    <tr>\n",
       "      <th>6822519</th>\n",
       "      <td>GRAVE</td>\n",
       "      <td>PARKING PARQUE JUAN CARLOS I</td>\n",
       "      <td>18:01:00</td>\n",
       "      <td>200.0</td>\n",
       "      <td>SI</td>\n",
       "      <td>0</td>\n",
       "      <td>POLICIA MUNICIPAL</td>\n",
       "      <td>ESTACIONAR EN CARRIL DECIRCULACIÓN OBSTACULIZA...</td>\n",
       "      <td></td>\n",
       "      <td></td>\n",
       "      <td></td>\n",
       "      <td></td>\n",
       "      <td>2019-01-01</td>\n",
       "    </tr>\n",
       "    <tr>\n",
       "      <th>6822520</th>\n",
       "      <td>GRAVE</td>\n",
       "      <td>TINTIN Y MILU 12</td>\n",
       "      <td>21:12:00</td>\n",
       "      <td>200.0</td>\n",
       "      <td>SI</td>\n",
       "      <td>0</td>\n",
       "      <td>POLICIA MUNICIPAL</td>\n",
       "      <td>ESTACIONAR EN CARRIL DECIRCULACIÓN OBSTACULIZA...</td>\n",
       "      <td></td>\n",
       "      <td></td>\n",
       "      <td></td>\n",
       "      <td></td>\n",
       "      <td>2019-01-01</td>\n",
       "    </tr>\n",
       "    <tr>\n",
       "      <th>6822521</th>\n",
       "      <td>LEVE</td>\n",
       "      <td>CRUZ DE LA MISA 2</td>\n",
       "      <td>15:35:00</td>\n",
       "      <td>90.0</td>\n",
       "      <td>SI</td>\n",
       "      <td>0</td>\n",
       "      <td>POLICIA MUNICIPAL</td>\n",
       "      <td>ESTACIONAR EN LUGAR PROHIBIDO.                ...</td>\n",
       "      <td></td>\n",
       "      <td></td>\n",
       "      <td></td>\n",
       "      <td></td>\n",
       "      <td>2019-01-01</td>\n",
       "    </tr>\n",
       "    <tr>\n",
       "      <th>6822522</th>\n",
       "      <td>LEVE</td>\n",
       "      <td>PO RECOLETOS-BARBARA BRAGANZA</td>\n",
       "      <td>13:22:00</td>\n",
       "      <td>60.0</td>\n",
       "      <td>SI</td>\n",
       "      <td>0</td>\n",
       "      <td>POLICIA MUNICIPAL</td>\n",
       "      <td>HACER USO INDEBIDO DE LAS SEŃALES ACÚSTICAS.  ...</td>\n",
       "      <td></td>\n",
       "      <td></td>\n",
       "      <td></td>\n",
       "      <td></td>\n",
       "      <td>2019-01-01</td>\n",
       "    </tr>\n",
       "    <tr>\n",
       "      <th>6822523</th>\n",
       "      <td>LEVE</td>\n",
       "      <td>SAN ROBERTO 9</td>\n",
       "      <td>11:05:00</td>\n",
       "      <td>90.0</td>\n",
       "      <td>SI</td>\n",
       "      <td>0</td>\n",
       "      <td>POLICIA MUNICIPAL</td>\n",
       "      <td>ESTACIONAR EN LUGAR PROHIBIDO.                ...</td>\n",
       "      <td></td>\n",
       "      <td></td>\n",
       "      <td></td>\n",
       "      <td></td>\n",
       "      <td>2019-01-01</td>\n",
       "    </tr>\n",
       "  </tbody>\n",
       "</table>\n",
       "<p>6822524 rows × 13 columns</p>\n",
       "</div>"
      ],
      "text/plain": [
       "        CALIFICACION                                     LUGAR      HORA  \\\n",
       "0         LEVE        CL SORIA 3                                13:57:00   \n",
       "1         LEVE        CL PEŃUELAS 16                            09:32:00   \n",
       "2         LEVE        CL PEŃUELAS 5                             09:36:00   \n",
       "3         LEVE        CL LAUREL 4                               10:03:00   \n",
       "4         LEVE        CL MORATINES 11                           11:22:00   \n",
       "...              ...                                       ...       ...   \n",
       "6822519   GRAVE       PARKING PARQUE JUAN CARLOS I              18:01:00   \n",
       "6822520   GRAVE       TINTIN Y MILU 12                          21:12:00   \n",
       "6822521   LEVE        CRUZ DE LA MISA 2                         15:35:00   \n",
       "6822522   LEVE        PO RECOLETOS-BARBARA BRAGANZA             13:22:00   \n",
       "6822523   LEVE        SAN ROBERTO 9                             11:05:00   \n",
       "\n",
       "         IMP_BOL DESCUENTO  PUNTOS           DENUNCIANTE  \\\n",
       "0           30.0        SI       0  SER                    \n",
       "1           90.0        SI       0  SER                    \n",
       "2           90.0        SI       0  SER                    \n",
       "3           90.0        SI       0  SER                    \n",
       "4           90.0        SI       0  SER                    \n",
       "...          ...       ...     ...                   ...   \n",
       "6822519    200.0        SI       0  POLICIA MUNICIPAL      \n",
       "6822520    200.0        SI       0  POLICIA MUNICIPAL      \n",
       "6822521     90.0        SI       0  POLICIA MUNICIPAL      \n",
       "6822522     60.0        SI       0  POLICIA MUNICIPAL      \n",
       "6822523     90.0        SI       0  POLICIA MUNICIPAL      \n",
       "\n",
       "                                                 HECHO_BOL VEL_LIMITE  \\\n",
       "0        ESTACIONAR CON AUTORIZACIÓN EN LUGAR HABILITAD...              \n",
       "1        ESTACIONAR EN LUGAR PROHIBIDO. VEHÍCULO DE CAT...              \n",
       "2        ESTACIONAR, SIN LA CORRESPONDIENTE AUTORIZACIÓ...              \n",
       "3        ESTACIONAR, SIN LA CORRESPONDIENTE AUTORIZACIÓ...              \n",
       "4        ESTACIONAR EN ZONA Y HORARIO DE CARGA Y DESCAR...              \n",
       "...                                                    ...        ...   \n",
       "6822519  ESTACIONAR EN CARRIL DECIRCULACIÓN OBSTACULIZA...              \n",
       "6822520  ESTACIONAR EN CARRIL DECIRCULACIÓN OBSTACULIZA...              \n",
       "6822521  ESTACIONAR EN LUGAR PROHIBIDO.                ...              \n",
       "6822522  HACER USO INDEBIDO DE LAS SEŃALES ACÚSTICAS.  ...              \n",
       "6822523  ESTACIONAR EN LUGAR PROHIBIDO.                ...              \n",
       "\n",
       "        VEL_CIRCULA COORDENADA_X COORDENADA_Y      FECHA  \n",
       "0                                             2021-12-01  \n",
       "1                                             2021-12-01  \n",
       "2                                             2021-12-01  \n",
       "3                                             2021-12-01  \n",
       "4                                             2021-12-01  \n",
       "...             ...          ...          ...        ...  \n",
       "6822519                                       2019-01-01  \n",
       "6822520                                       2019-01-01  \n",
       "6822521                                       2019-01-01  \n",
       "6822522                                       2019-01-01  \n",
       "6822523                                       2019-01-01  \n",
       "\n",
       "[6822524 rows x 13 columns]"
      ]
     },
     "execution_count": 42,
     "metadata": {},
     "output_type": "execute_result"
    }
   ],
   "source": [
    "multas"
   ]
  },
  {
   "cell_type": "code",
   "execution_count": null,
   "metadata": {},
   "outputs": [],
   "source": []
  },
  {
   "cell_type": "code",
   "execution_count": null,
   "metadata": {},
   "outputs": [],
   "source": [
    "multas.to_csv(f'{path_proyecto}{path_data}/historico_multas.csv',index_label=False)"
   ]
  }
 ],
 "metadata": {
  "kernelspec": {
   "display_name": "Python 3 (ipykernel)",
   "language": "python",
   "name": "python3"
  },
  "language_info": {
   "codemirror_mode": {
    "name": "ipython",
    "version": 3
   },
   "file_extension": ".py",
   "mimetype": "text/x-python",
   "name": "python",
   "nbconvert_exporter": "python",
   "pygments_lexer": "ipython3",
   "version": "3.8.13"
  }
 },
 "nbformat": 4,
 "nbformat_minor": 2
}
